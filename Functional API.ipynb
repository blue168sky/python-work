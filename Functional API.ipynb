{
 "cells": [
  {
   "cell_type": "code",
   "execution_count": 1,
   "metadata": {},
   "outputs": [
    {
     "name": "stderr",
     "output_type": "stream",
     "text": [
      "Using TensorFlow backend.\n"
     ]
    }
   ],
   "source": [
    "from keras.datasets import mnist\n",
    "from keras.models import load_model, Model\n",
    "from keras.layers import Dense, Input, concatenate\n",
    "from keras.utils import np_utils\n",
    "from keras.optimizers import adam"
   ]
  },
  {
   "cell_type": "code",
   "execution_count": 2,
   "metadata": {},
   "outputs": [],
   "source": [
    "(x_train0, y_train0), (x_test0, y_test0) = mnist.load_data()\n",
    "x_train = x_train0.reshape(60000, 784)\n",
    "x_test = x_test0.reshape(10000, 784)\n",
    "x_train = x_train-x_train.min()\n",
    "x_train = x_train/x_train.max()\n",
    "\n",
    "x_test = x_test-x_test.min()\n",
    "x_test = x_test/x_test.max()\n",
    "y_train = np_utils.to_categorical(y_train0, 10)\n",
    "y_test = np_utils.to_categorical(y_test0, 10)\n"
   ]
  },
  {
   "cell_type": "markdown",
   "metadata": {},
   "source": [
    "## Functional API"
   ]
  },
  {
   "cell_type": "code",
   "execution_count": 3,
   "metadata": {},
   "outputs": [],
   "source": [
    "x=Input(shape=(784,))\n",
    "f_1=Dense(600, activation='relu') \n",
    "f_2=Dense(150, activation='relu')    \n",
    "f_3=Dense(600, activation='relu')  \n",
    "f_4=Dense(150, activation='relu') \n",
    "f_5=Dense(10, activation='softmax')  "
   ]
  },
  {
   "cell_type": "code",
   "execution_count": 4,
   "metadata": {},
   "outputs": [
    {
     "name": "stdout",
     "output_type": "stream",
     "text": [
      "WARNING:tensorflow:From C:\\Users\\HP\\Anaconda3\\envs\\tensorflow\\lib\\site-packages\\tensorflow\\python\\framework\\op_def_library.py:263: colocate_with (from tensorflow.python.framework.ops) is deprecated and will be removed in a future version.\n",
      "Instructions for updating:\n",
      "Colocations handled automatically by placer.\n",
      "__________________________________________________________________________________________________\n",
      "Layer (type)                    Output Shape         Param #     Connected to                     \n",
      "==================================================================================================\n",
      "input_1 (InputLayer)            (None, 784)          0                                            \n",
      "__________________________________________________________________________________________________\n",
      "dense_1 (Dense)                 (None, 600)          471000      input_1[0][0]                    \n",
      "__________________________________________________________________________________________________\n",
      "dense_2 (Dense)                 (None, 150)          90150       dense_1[0][0]                    \n",
      "__________________________________________________________________________________________________\n",
      "dense_3 (Dense)                 (None, 600)          360600      dense_1[0][0]                    \n",
      "__________________________________________________________________________________________________\n",
      "dense_4 (Dense)                 (None, 150)          90150       dense_1[0][0]                    \n",
      "__________________________________________________________________________________________________\n",
      "concatenate_1 (Concatenate)     (None, 900)          0           dense_2[0][0]                    \n",
      "                                                                 dense_3[0][0]                    \n",
      "                                                                 dense_4[0][0]                    \n",
      "__________________________________________________________________________________________________\n",
      "dense_5 (Dense)                 (None, 10)           9010        concatenate_1[0][0]              \n",
      "==================================================================================================\n",
      "Total params: 1,020,910\n",
      "Trainable params: 1,020,910\n",
      "Non-trainable params: 0\n",
      "__________________________________________________________________________________________________\n"
     ]
    }
   ],
   "source": [
    "h_1=f_1(x)\n",
    "h_2=f_2(h_1)\n",
    "h_3=f_3(h_1)\n",
    "h_4=f_4(h_1)\n",
    "u=concatenate([h_2, h_3, h_4])\n",
    "y=f_5(u)\n",
    "model = Model(x, y)\n",
    "model.summary()"
   ]
  },
  {
   "cell_type": "code",
   "execution_count": 5,
   "metadata": {},
   "outputs": [],
   "source": [
    "model.compile(loss='categorical_crossentropy', optimizer=adam(lr=0.001), metrics=['accuracy'])"
   ]
  },
  {
   "cell_type": "code",
   "execution_count": 6,
   "metadata": {},
   "outputs": [
    {
     "name": "stdout",
     "output_type": "stream",
     "text": [
      "WARNING:tensorflow:From C:\\Users\\HP\\Anaconda3\\envs\\tensorflow\\lib\\site-packages\\tensorflow\\python\\ops\\math_ops.py:3066: to_int32 (from tensorflow.python.ops.math_ops) is deprecated and will be removed in a future version.\n",
      "Instructions for updating:\n",
      "Use tf.cast instead.\n",
      "Epoch 1/20\n",
      "60000/60000 [==============================] - 14s 229us/step - loss: 0.1934 - acc: 0.9417\n",
      "Epoch 2/20\n",
      "60000/60000 [==============================] - 13s 222us/step - loss: 0.0785 - acc: 0.9755\n",
      "Epoch 3/20\n",
      "60000/60000 [==============================] - 13s 222us/step - loss: 0.0514 - acc: 0.9831\n",
      "Epoch 4/20\n",
      "60000/60000 [==============================] - 14s 225us/step - loss: 0.0368 - acc: 0.9882\n",
      "Epoch 5/20\n",
      "60000/60000 [==============================] - 14s 225us/step - loss: 0.0301 - acc: 0.9902\n",
      "Epoch 6/20\n",
      "60000/60000 [==============================] - 13s 225us/step - loss: 0.0256 - acc: 0.9918\n",
      "Epoch 7/20\n",
      "60000/60000 [==============================] - 13s 224us/step - loss: 0.0223 - acc: 0.9933\n",
      "Epoch 8/20\n",
      "60000/60000 [==============================] - 14s 225us/step - loss: 0.0170 - acc: 0.9945\n",
      "Epoch 9/20\n",
      "60000/60000 [==============================] - 13s 225us/step - loss: 0.0197 - acc: 0.9937\n",
      "Epoch 10/20\n",
      "60000/60000 [==============================] - 13s 225us/step - loss: 0.0150 - acc: 0.9949\n",
      "Epoch 11/20\n",
      "60000/60000 [==============================] - 14s 225us/step - loss: 0.0164 - acc: 0.9951\n",
      "Epoch 12/20\n",
      "60000/60000 [==============================] - 13s 224us/step - loss: 0.0163 - acc: 0.9949\n",
      "Epoch 13/20\n",
      "60000/60000 [==============================] - 14s 229us/step - loss: 0.0108 - acc: 0.9967\n",
      "Epoch 14/20\n",
      "60000/60000 [==============================] - 14s 227us/step - loss: 0.0111 - acc: 0.9965\n",
      "Epoch 15/20\n",
      "60000/60000 [==============================] - 14s 226us/step - loss: 0.0120 - acc: 0.9964\n",
      "Epoch 16/20\n",
      "60000/60000 [==============================] - 14s 227us/step - loss: 0.0133 - acc: 0.9961\n",
      "Epoch 17/20\n",
      "60000/60000 [==============================] - 14s 228us/step - loss: 0.0109 - acc: 0.9967\n",
      "Epoch 18/20\n",
      "60000/60000 [==============================] - 13s 225us/step - loss: 0.0064 - acc: 0.9981\n",
      "Epoch 19/20\n",
      "60000/60000 [==============================] - 14s 225us/step - loss: 0.0128 - acc: 0.9964\n",
      "Epoch 20/20\n",
      "60000/60000 [==============================] - 14s 226us/step - loss: 0.0109 - acc: 0.9971\n"
     ]
    }
   ],
   "source": [
    "X = model.fit(x_train, y_train, batch_size=80, epochs=20)"
   ]
  },
  {
   "cell_type": "code",
   "execution_count": 8,
   "metadata": {},
   "outputs": [
    {
     "name": "stdout",
     "output_type": "stream",
     "text": [
      "10000/10000 [==============================] - 1s 72us/step\n",
      "loss: 0.1030055286378984\n",
      "accuracy: 0.9821\n"
     ]
    }
   ],
   "source": [
    "score=model.evaluate(x_test,y_test)\n",
    "print('loss:', score[0])\n",
    "print('accuracy:', score[1])"
   ]
  },
  {
   "cell_type": "code",
   "execution_count": null,
   "metadata": {},
   "outputs": [],
   "source": []
  }
 ],
 "metadata": {
  "kernelspec": {
   "display_name": "Python 3",
   "language": "python",
   "name": "python3"
  },
  "language_info": {
   "codemirror_mode": {
    "name": "ipython",
    "version": 3
   },
   "file_extension": ".py",
   "mimetype": "text/x-python",
   "name": "python",
   "nbconvert_exporter": "python",
   "pygments_lexer": "ipython3",
   "version": "3.6.8"
  }
 },
 "nbformat": 4,
 "nbformat_minor": 2
}
