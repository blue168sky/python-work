{
 "cells": [
  {
   "cell_type": "code",
   "execution_count": 1,
   "metadata": {},
   "outputs": [
    {
     "name": "stdout",
     "output_type": "stream",
     "text": [
      "     fruit tasty   size\n",
      "0   banana   yes  large\n",
      "1    apple    no  large\n",
      "2   banana   yes  large\n",
      "3    apple   yes  small\n",
      "4   banana   yes  large\n",
      "5    apple   yes  large\n",
      "6   banana   yes  large\n",
      "7    apple   yes  small\n",
      "8    apple   yes  large\n",
      "9    apple   yes  large\n",
      "10  banana   yes  large\n",
      "11  banana    no  large\n",
      "12   apple    no  small\n",
      "13  banana    no  small\n"
     ]
    }
   ],
   "source": [
    "import pandas as pd\n",
    "data = pd.DataFrame(data={'fruit': [\"banana\", \"apple\", \"banana\", \"apple\", \"banana\",\"apple\", \"banana\", \n",
    "                                    \"apple\", \"apple\", \"apple\", \"banana\", \"banana\", \"apple\", \"banana\",], \n",
    "                          'tasty': [\"yes\", \"no\", \"yes\", \"yes\", \"yes\", \"yes\", \"yes\", \n",
    "                                    \"yes\", \"yes\", \"yes\", \"yes\", \"no\", \"no\", \"no\"], \n",
    "                          'size': [\"large\", \"large\", \"large\", \"small\", \"large\", \"large\", \"large\",\n",
    "                                    \"small\", \"large\", \"large\", \"large\", \"large\", \"small\", \"small\"]})\n",
    "print(data)"
   ]
  },
  {
   "cell_type": "code",
   "execution_count": 2,
   "metadata": {},
   "outputs": [],
   "source": [
    "from pgmpy.models import BayesianModel\n",
    "\n",
    "model = BayesianModel([('fruit', 'tasty'), ('size', 'tasty')]) "
   ]
  },
  {
   "cell_type": "code",
   "execution_count": 3,
   "metadata": {},
   "outputs": [
    {
     "name": "stdout",
     "output_type": "stream",
     "text": [
      "\n",
      "         fruit\n",
      "apple       7\n",
      "banana      7\n",
      "\n",
      " fruit apple       banana      \n",
      "size  large small  large small\n",
      "tasty                         \n",
      "no      1.0   1.0    1.0   1.0\n",
      "yes     3.0   2.0    5.0   0.0\n"
     ]
    },
    {
     "name": "stderr",
     "output_type": "stream",
     "text": [
      "C:\\Users\\HP\\Desktop\\python work\\pgmpy\\estimators\\base.py:63: FutureWarning: \n",
      ".ix is deprecated. Please use\n",
      ".loc for label based indexing or\n",
      ".iloc for positional indexing\n",
      "\n",
      "See the documentation here:\n",
      "http://pandas.pydata.org/pandas-docs/stable/user_guide/indexing.html#ix-indexer-is-deprecated\n",
      "  states = sorted(list(self.data.ix[:, variable].dropna().unique()))\n",
      "C:\\Users\\HP\\Desktop\\python work\\pgmpy\\estimators\\base.py:132: FutureWarning: \n",
      ".ix is deprecated. Please use\n",
      ".loc for label based indexing or\n",
      ".iloc for positional indexing\n",
      "\n",
      "See the documentation here:\n",
      "http://pandas.pydata.org/pandas-docs/stable/user_guide/indexing.html#ix-indexer-is-deprecated\n",
      "  state_count_data = data.ix[:, variable].value_counts()\n"
     ]
    }
   ],
   "source": [
    "from pgmpy.estimators import ParameterEstimator\n",
    "pe = ParameterEstimator(model, data)\n",
    "print(\"\\n\", pe.state_counts('fruit'))  \n",
    "print(\"\\n\", pe.state_counts('tasty')) "
   ]
  },
  {
   "cell_type": "code",
   "execution_count": 4,
   "metadata": {},
   "outputs": [
    {
     "name": "stdout",
     "output_type": "stream",
     "text": [
      "+---------------+-----+\n",
      "| fruit(apple)  | 0.5 |\n",
      "+---------------+-----+\n",
      "| fruit(banana) | 0.5 |\n",
      "+---------------+-----+\n",
      "+------------+--------------+--------------------+---------------------+---------------+\n",
      "| fruit      | fruit(apple) | fruit(apple)       | fruit(banana)       | fruit(banana) |\n",
      "+------------+--------------+--------------------+---------------------+---------------+\n",
      "| size       | size(large)  | size(small)        | size(large)         | size(small)   |\n",
      "+------------+--------------+--------------------+---------------------+---------------+\n",
      "| tasty(no)  | 0.25         | 0.3333333333333333 | 0.16666666666666666 | 1.0           |\n",
      "+------------+--------------+--------------------+---------------------+---------------+\n",
      "| tasty(yes) | 0.75         | 0.6666666666666666 | 0.8333333333333334  | 0.0           |\n",
      "+------------+--------------+--------------------+---------------------+---------------+\n"
     ]
    },
    {
     "name": "stderr",
     "output_type": "stream",
     "text": [
      "C:\\Users\\HP\\Desktop\\python work\\pgmpy\\estimators\\MLE.py:130: FutureWarning: \n",
      ".ix is deprecated. Please use\n",
      ".loc for label based indexing or\n",
      ".iloc for positional indexing\n",
      "\n",
      "See the documentation here:\n",
      "http://pandas.pydata.org/pandas-docs/stable/user_guide/indexing.html#ix-indexer-is-deprecated\n",
      "  state_counts.ix[:, (state_counts == 0).all()] = 1\n"
     ]
    }
   ],
   "source": [
    "from pgmpy.estimators import MaximumLikelihoodEstimator\n",
    "mle = MaximumLikelihoodEstimator(model, data)\n",
    "print(mle.estimate_cpd('fruit'))  # unconditional\n",
    "print(mle.estimate_cpd('tasty'))  # conditional"
   ]
  },
  {
   "cell_type": "code",
   "execution_count": 5,
   "metadata": {},
   "outputs": [],
   "source": [
    "model.fit(data, estimator=MaximumLikelihoodEstimator)"
   ]
  },
  {
   "cell_type": "code",
   "execution_count": 6,
   "metadata": {},
   "outputs": [
    {
     "name": "stdout",
     "output_type": "stream",
     "text": [
      "+------------+---------------------+--------------------+--------------------+---------------------+\n",
      "| fruit      | fruit(apple)        | fruit(apple)       | fruit(banana)      | fruit(banana)       |\n",
      "+------------+---------------------+--------------------+--------------------+---------------------+\n",
      "| size       | size(large)         | size(small)        | size(large)        | size(small)         |\n",
      "+------------+---------------------+--------------------+--------------------+---------------------+\n",
      "| tasty(no)  | 0.34615384615384615 | 0.4090909090909091 | 0.2647058823529412 | 0.6428571428571429  |\n",
      "+------------+---------------------+--------------------+--------------------+---------------------+\n",
      "| tasty(yes) | 0.6538461538461539  | 0.5909090909090909 | 0.7352941176470589 | 0.35714285714285715 |\n",
      "+------------+---------------------+--------------------+--------------------+---------------------+\n"
     ]
    }
   ],
   "source": [
    "from pgmpy.estimators import BayesianEstimator\n",
    "est = BayesianEstimator(model, data)\n",
    "\n",
    "print(est.estimate_cpd('tasty', prior_type='BDeu', equivalent_sample_size=10))"
   ]
  },
  {
   "cell_type": "markdown",
   "metadata": {},
   "source": [
    "## Structurelearning"
   ]
  },
  {
   "cell_type": "code",
   "execution_count": 7,
   "metadata": {},
   "outputs": [
    {
     "name": "stdout",
     "output_type": "stream",
     "text": [
      "+------+---------+\n",
      "| A(0) | 0.50999 |\n",
      "+------+---------+\n",
      "| A(1) | 0.49001 |\n",
      "+------+---------+\n",
      "+------+---------------------+---------------------+\n",
      "| A    | A(0)                | A(1)                |\n",
      "+------+---------------------+---------------------+\n",
      "| B(0) | 0.5164544564152791  | 0.5077471967380224  |\n",
      "+------+---------------------+---------------------+\n",
      "| B(1) | 0.48354554358472085 | 0.49225280326197757 |\n",
      "+------+---------------------+---------------------+\n",
      "+------+---------------------+--------------------+---------------------+--------------------+\n",
      "| A    | A(0)                | A(0)               | A(1)                | A(1)               |\n",
      "+------+---------------------+--------------------+---------------------+--------------------+\n",
      "| D    | D(0)                | D(1)               | D(0)                | D(1)               |\n",
      "+------+---------------------+--------------------+---------------------+--------------------+\n",
      "| C(0) | 0.49762517316445676 | 0.4875896839247625 | 0.49714576962283386 | 0.5110091743119266 |\n",
      "+------+---------------------+--------------------+---------------------+--------------------+\n",
      "| C(1) | 0.5023748268355432  | 0.5124103160752376 | 0.5028542303771661  | 0.4889908256880734 |\n",
      "+------+---------------------+--------------------+---------------------+--------------------+\n",
      "+------+---------------------+--------------------+\n",
      "| B    | B(0)                | B(1)               |\n",
      "+------+---------------------+--------------------+\n",
      "| D(0) | 0.5040959625511995  | 0.490374769608847  |\n",
      "+------+---------------------+--------------------+\n",
      "| D(1) | 0.49590403744880046 | 0.5096252303911529 |\n",
      "+------+---------------------+--------------------+\n"
     ]
    }
   ],
   "source": [
    "import numpy as np\n",
    "import pandas as pd\n",
    "from pgmpy.models import BayesianModel\n",
    "from pgmpy.estimators import BayesianEstimator\n",
    "\n",
    "# generate data\n",
    "data = pd.DataFrame(np.random.randint(low=0, high=2, size=(5000, 4)), columns=['A', 'B', 'C', 'D'])\n",
    "model = BayesianModel([('A', 'B'), ('A', 'C'), ('D', 'C'), ('B', 'D')])\n",
    "\n",
    "model.fit(data, estimator=BayesianEstimator, prior_type=\"BDeu\") # default equivalent_sample_size=5\n",
    "for cpd in model.get_cpds():\n",
    "    print(cpd)"
   ]
  },
  {
   "cell_type": "code",
   "execution_count": 8,
   "metadata": {},
   "outputs": [
    {
     "name": "stdout",
     "output_type": "stream",
     "text": [
      "-13938.961382495025\n",
      "-14329.792528931313\n",
      "-14294.9996538936\n",
      "-20904.959269182724\n",
      "-20931.79206548095\n",
      "-20949.000904145178\n"
     ]
    }
   ],
   "source": [
    "import pandas as pd\n",
    "import numpy as np\n",
    "from pgmpy.estimators import BdeuScore, K2Score, BicScore\n",
    "from pgmpy.models import BayesianModel\n",
    "\n",
    "# create random data sample with 3 variables, where Z is dependent on X, Y:\n",
    "data = pd.DataFrame(np.random.randint(0, 4, size=(5000, 2)), columns=list('XY'))\n",
    "data['Z'] = data['X'] + data['Y']\n",
    "\n",
    "bdeu = BdeuScore(data, equivalent_sample_size=5)\n",
    "k2 = K2Score(data)\n",
    "bic = BicScore(data)\n",
    "\n",
    "model1 = BayesianModel([('X', 'Z'), ('Y', 'Z')])  # X -> Z <- Y\n",
    "model2 = BayesianModel([('X', 'Z'), ('X', 'Y')])  # Y <- X -> Z\n",
    "\n",
    "\n",
    "print(bdeu.score(model1))\n",
    "print(k2.score(model1))\n",
    "print(bic.score(model1))\n",
    "\n",
    "print(bdeu.score(model2))\n",
    "print(k2.score(model2))\n",
    "print(bic.score(model2))"
   ]
  },
  {
   "cell_type": "code",
   "execution_count": 9,
   "metadata": {},
   "outputs": [
    {
     "name": "stdout",
     "output_type": "stream",
     "text": [
      "-9213.712447665688\n",
      "-6992.7015927337525\n",
      "-57.121248048622874\n"
     ]
    }
   ],
   "source": [
    "print(bdeu.local_score('Z', parents=[]))\n",
    "print(bdeu.local_score('Z', parents=['X']))\n",
    "print(bdeu.local_score('Z', parents=['X', 'Y']))"
   ]
  },
  {
   "cell_type": "code",
   "execution_count": 10,
   "metadata": {},
   "outputs": [
    {
     "name": "stdout",
     "output_type": "stream",
     "text": [
      "[('X', 'Z'), ('Y', 'Z')]\n",
      "\n",
      "All DAGs by score:\n",
      "-14294.999653893601 [('X', 'Z'), ('Y', 'Z')]\n",
      "-14329.516064150537 [('X', 'Y'), ('Z', 'X'), ('Z', 'Y')]\n",
      "-14329.516064150539 [('Y', 'X'), ('Z', 'X'), ('Z', 'Y')]\n",
      "-14329.516064150539 [('Y', 'Z'), ('Y', 'X'), ('Z', 'X')]\n",
      "-14329.516064150539 [('X', 'Z'), ('Y', 'Z'), ('Y', 'X')]\n",
      "-14329.51606415054 [('X', 'Y'), ('X', 'Z'), ('Z', 'Y')]\n",
      "-14329.51606415054 [('X', 'Y'), ('X', 'Z'), ('Y', 'Z')]\n",
      "-16518.00785391764 [('Y', 'X'), ('Z', 'X')]\n",
      "-16518.80114706891 [('X', 'Y'), ('Z', 'Y')]\n",
      "-18725.99270412113 [('Z', 'X'), ('Z', 'Y')]\n",
      "-18725.99270412113 [('Y', 'Z'), ('Z', 'X')]\n",
      "-18725.992704121134 [('X', 'Z'), ('Z', 'Y')]\n",
      "-20914.48449388823 [('Z', 'X')]\n",
      "-20914.484493888238 [('X', 'Z')]\n",
      "-20915.2777870395 [('Z', 'Y')]\n",
      "-20915.2777870395 [('Y', 'Z')]\n",
      "-20949.00090414517 [('X', 'Y'), ('Z', 'X')]\n",
      "-20949.000904145174 [('X', 'Z'), ('Y', 'X')]\n",
      "-20949.000904145178 [('X', 'Y'), ('X', 'Z')]\n",
      "-20949.79419729644 [('Y', 'X'), ('Z', 'Y')]\n",
      "-20949.79419729644 [('Y', 'Z'), ('Y', 'X')]\n",
      "-20949.79419729644 [('X', 'Y'), ('Y', 'Z')]\n",
      "-23103.769576806604 []\n",
      "-23138.28598706354 [('Y', 'X')]\n",
      "-23138.285987063544 [('X', 'Y')]\n"
     ]
    }
   ],
   "source": [
    "from pgmpy.estimators import ExhaustiveSearch\n",
    "\n",
    "es = ExhaustiveSearch(data, scoring_method=bic)\n",
    "best_model = es.estimate()\n",
    "print(best_model.edges())\n",
    "\n",
    "print(\"\\nAll DAGs by score:\")\n",
    "for score, dag in reversed(es.all_scores()):\n",
    "    print(score, dag.edges())"
   ]
  },
  {
   "cell_type": "code",
   "execution_count": 11,
   "metadata": {},
   "outputs": [
    {
     "name": "stdout",
     "output_type": "stream",
     "text": [
      "[('A', 'H'), ('A', 'B'), ('A', 'C'), ('C', 'B'), ('G', 'H')]\n"
     ]
    }
   ],
   "source": [
    "from pgmpy.estimators import HillClimbSearch\n",
    "\n",
    "# create some data with dependencies\n",
    "data = pd.DataFrame(np.random.randint(0, 3, size=(2500, 8)), columns=list('ABCDEFGH'))\n",
    "data['A'] += data['B'] + data['C']\n",
    "data['H'] = data['G'] - data['A']\n",
    "\n",
    "hc = HillClimbSearch(data, scoring_method=BicScore(data))\n",
    "best_model = hc.estimate()\n",
    "print(best_model.edges())"
   ]
  },
  {
   "cell_type": "code",
   "execution_count": null,
   "metadata": {},
   "outputs": [],
   "source": []
  }
 ],
 "metadata": {
  "kernelspec": {
   "display_name": "Python 3",
   "language": "python",
   "name": "python3"
  },
  "language_info": {
   "codemirror_mode": {
    "name": "ipython",
    "version": 3
   },
   "file_extension": ".py",
   "mimetype": "text/x-python",
   "name": "python",
   "nbconvert_exporter": "python",
   "pygments_lexer": "ipython3",
   "version": "3.6.8"
  }
 },
 "nbformat": 4,
 "nbformat_minor": 2
}
