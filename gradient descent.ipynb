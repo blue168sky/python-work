{
 "cells": [
  {
   "cell_type": "code",
   "execution_count": 3,
   "metadata": {},
   "outputs": [
    {
     "name": "stdout",
     "output_type": "stream",
     "text": [
      "[ -2.524761511833407 1.7755925464811309 -1.3386232887389888 ]\n",
      "請輸入截距項起始值:0\n",
      "請輸入迴歸係數起始值:0\n",
      "請輸入迴歸係數起始值:0\n",
      "Learning rate =0.000005\n",
      "請輸入迭代次數:80000\n",
      "[ -1.0982156127138138 1.655723182439424 -1.572158704110088 ]\n"
     ]
    },
    {
     "data": {
      "image/png": "[encoded data removed]",
      "text/plain": [
       "<Figure size 432x288 with 1 Axes>"
      ]
     },
     "metadata": {
      "needs_background": "light"
     },
     "output_type": "display_data"
    }
   ],
   "source": [
    "%matplotlib inline\n",
    "import pandas as pd\n",
    "import matplotlib.pyplot as plt\n",
    "import numpy as np\n",
    "from sklearn import datasets\n",
    "from sklearn.linear_model import LinearRegression\n",
    "\n",
    "iris = datasets.load_iris()\n",
    "iris1 = pd.DataFrame(iris['data'],columns=iris['feature_names'])#資料整理\n",
    "#print(iris1)\n",
    "\n",
    "#迴歸係數\n",
    "X = iris1[['sepal length (cm)','sepal width (cm)']]\n",
    "y = iris1['petal length (cm)']\n",
    "lm = LinearRegression()\n",
    "model=lm.fit(X, y)\n",
    "print('[',lm.intercept_,lm.coef_[0],lm.coef_[1],']')\n",
    "\n",
    "#Gradient Descent \n",
    "#迴歸值\n",
    "b0 = float(input('請輸入截距項起始值:'))\n",
    "b1 = float(input('請輸入迴歸係數起始值:'))\n",
    "b2 = float(input('請輸入迴歸係數起始值:'))\n",
    "learning_rate=float(input('Learning rate ='))\n",
    "a=range(int(input('請輸入迭代次數:')))#iteration\n",
    "square_error = []\n",
    "for i in a:    \n",
    "    yi = b0 + iris1['sepal length (cm)']*b1 + iris1['sepal width (cm)']*b2\n",
    "        \n",
    "    error = iris1['petal length (cm)'] - yi\n",
    "    ex1 =iris1['sepal length (cm)']*error\n",
    "    ex2 =iris1['sepal width (cm)']*error  \n",
    "    error2 = error**2\n",
    "    SE =error2.iloc[:,].sum()\n",
    "    db0 = 0-error.iloc[:,].sum()\n",
    "    db1 = 0-ex1.iloc[:,].sum()\n",
    "    db2 = 0-ex2.iloc[:,].sum()\n",
    "    b0-=learning_rate*db0\n",
    "    b1-=learning_rate*db1\n",
    "    b2-=learning_rate*db2\n",
    "    square_error.append(SE)   \n",
    "    \n",
    "print ('[',b0,b1,b2,']')    \n",
    "plt.plot(a,square_error)\n",
    "plt.xlabel('Iteration')\n",
    "plt.ylabel('Square Error')\n",
    "plt.show()    "
   ]
  },
  {
   "cell_type": "code",
   "execution_count": null,
   "metadata": {},
   "outputs": [],
   "source": []
  }
 ],
 "metadata": {
  "kernelspec": {
   "display_name": "Python 3",
   "language": "python",
   "name": "python3"
  },
  "language_info": {
   "codemirror_mode": {
    "name": "ipython",
    "version": 3
   },
   "file_extension": ".py",
   "mimetype": "text/x-python",
   "name": "python",
   "nbconvert_exporter": "python",
   "pygments_lexer": "ipython3",
   "version": "3.7.1"
  }
 },
 "nbformat": 4,
 "nbformat_minor": 2
}
