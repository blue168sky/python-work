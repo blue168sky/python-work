{
 "cells": [
  {
   "cell_type": "code",
   "execution_count": 44,
   "metadata": {},
   "outputs": [],
   "source": [
    "import numpy as np\n",
    "import pandas as pd"
   ]
  },
  {
   "cell_type": "code",
   "execution_count": 45,
   "metadata": {},
   "outputs": [
    {
     "name": "stdout",
     "output_type": "stream",
     "text": [
      "   Team   FG%   3P%   FT%  ORB  DRB  TRB  AST  STL  BLK  TOV  PF  PTS  HOME  \\\n",
      "0   TOR  48.5  36.7  85.0   17   29   46   27    6    5   15  22  128     0   \n",
      "1   TOR  47.6  23.1  69.2    5   35   40   28    5   11   19  18   93     1   \n",
      "2   POR  56.5  53.1  75.0    6   37   43   29   11   10   15  22  125     1   \n",
      "3   POR  42.5  29.5  40.0   14   45   59   36   10    9   15  19  109     1   \n",
      "4   POR  50.0  48.0  82.1    5   37   42   27    9    4   12  18  115     0   \n",
      "5   POR  40.2  34.2  88.9   18   31   49   26    1    9    9  26  107     0   \n",
      "6   MIL  48.3  35.7  77.3    8   30   38   31    5    6   18  22  111     1   \n",
      "7   MIL  44.9  41.3  85.7    6   37   43   32    7    6   18  20  105     0   \n",
      "8   UTA  56.3  52.6  88.9    8   35   43   27   10    6   16  23  124     0   \n",
      "9   UTA  40.0  32.3  94.4   10   38   48   18   10    9   12  21  103     0   \n",
      "10  UTA  49.4  31.7  66.7    5   35   40   29   12    7    7  20  115     1   \n",
      "11  PHI  46.6  28.9  68.8    9   28   37   30   13    7   15  19  104     1   \n",
      "12  PHI  50.6  42.4  70.6    4   35   39   23   14    7   14  22  120     0   \n",
      "13  LAC  46.8  38.7  69.6   11   35   46   27    7    8   17  25  116     0   \n",
      "14  LAC  45.2  35.0  86.1   15   31   46   22    9    7    7  27  129     1   \n",
      "15  LAC  48.8  24.3  70.4    3   40   43   31   11    8   10  24  112     0   \n",
      "16  LAC  54.6  32.4  86.7   11   37   48   34   16    8   11  22  131     1   \n",
      "\n",
      "    RESULT        DATE  \n",
      "0        0  2018/11/30  \n",
      "1        0  2018/12/13  \n",
      "2        1  2018/11/24  \n",
      "3        0  2018/12/28  \n",
      "4        1  2018/12/30  \n",
      "5        0   2019/2/14  \n",
      "6        0   2018/11/9  \n",
      "7        1   2018/12/8  \n",
      "8        1  2018/10/20  \n",
      "9        0  2018/12/20  \n",
      "10       1   2019/2/13  \n",
      "11       0    2019/2/1  \n",
      "12       1    2019/3/3  \n",
      "13       0  2018/11/13  \n",
      "14       1  2018/12/24  \n",
      "15       1   2019/1/19  \n",
      "16       1    2019/4/8  \n"
     ]
    }
   ],
   "source": [
    "df = pd.read_csv('train.csv')\n",
    "print(df)"
   ]
  },
  {
   "cell_type": "code",
   "execution_count": 46,
   "metadata": {},
   "outputs": [],
   "source": [
    "x_train = df.drop(['Team','DATE','RESULT'],axis = 1)\n",
    "y_train = df['RESULT']"
   ]
  },
  {
   "cell_type": "code",
   "execution_count": 47,
   "metadata": {},
   "outputs": [],
   "source": [
    "from sklearn.decomposition import PCA \n",
    "pca=PCA(n_components=4)"
   ]
  },
  {
   "cell_type": "code",
   "execution_count": 48,
   "metadata": {},
   "outputs": [
    {
     "name": "stdout",
     "output_type": "stream",
     "text": [
      "original shape:    (17, 13)\n",
      "transformed shape: (17, 4)\n"
     ]
    }
   ],
   "source": [
    "pca.fit(x_train)\n",
    "x_train_pca = pca.transform(x_train)\n",
    "print(\"original shape:   \", x_train.shape)\n",
    "print(\"transformed shape:\", x_train_pca.shape)"
   ]
  },
  {
   "cell_type": "code",
   "execution_count": 49,
   "metadata": {},
   "outputs": [
    {
     "name": "stdout",
     "output_type": "stream",
     "text": [
      "[[-0.14480804 -0.1253852  -0.18509536 -0.21937863]]\n",
      "[-0.05114789]\n"
     ]
    },
    {
     "name": "stderr",
     "output_type": "stream",
     "text": [
      "C:\\Users\\HP\\Anaconda3\\lib\\site-packages\\sklearn\\linear_model\\logistic.py:433: FutureWarning: Default solver will be changed to 'lbfgs' in 0.22. Specify a solver to silence this warning.\n",
      "  FutureWarning)\n"
     ]
    }
   ],
   "source": [
    "from sklearn.linear_model import LogisticRegression\n",
    "from sklearn.metrics import accuracy_score \n",
    "model = LogisticRegression()\n",
    "model.fit(x_train_pca, y_train)\n",
    "print(model.coef_)\n",
    "print(model.intercept_)"
   ]
  },
  {
   "cell_type": "code",
   "execution_count": 50,
   "metadata": {},
   "outputs": [
    {
     "name": "stdout",
     "output_type": "stream",
     "text": [
      "    FG%   3P%   FT%  ORB  DRB  TRB  AST  STL  BLK  TOV  PF  PTS  HOME  RESULT  \\\n",
      "0  50.0  51.5  83.3   11   31   42   30   13    8   14  24  116     1       1   \n",
      "1  51.2  31.0  77.8   12   38   50   30    4    9   16  21  114     1       1   \n",
      "2  48.8  30.8  87.0    7   42   49   27    9    5   14  24  110     0       1   \n",
      "3  46.5  30.8  78.9   15   41   56   30   10    5   15  17  119     0       1   \n",
      "\n",
      "   DATE  \n",
      "0   NaN  \n",
      "1   NaN  \n",
      "2   NaN  \n",
      "3   NaN  \n"
     ]
    }
   ],
   "source": [
    "df1 = pd.read_csv('test.csv')\n",
    "print(df1)"
   ]
  },
  {
   "cell_type": "code",
   "execution_count": 51,
   "metadata": {},
   "outputs": [
    {
     "name": "stdout",
     "output_type": "stream",
     "text": [
      "original shape:    (4, 13)\n",
      "transformed shape: (4, 4)\n"
     ]
    }
   ],
   "source": [
    "x_test = df1.drop(['DATE','RESULT'],axis = 1)\n",
    "y_test = df1['RESULT']\n",
    "pca_test=PCA(n_components=4)\n",
    "pca_test.fit(x_test)\n",
    "x_test_pca = pca_test.transform(x_test)\n",
    "\n",
    "print(\"original shape:   \", x_test.shape)\n",
    "print(\"transformed shape:\", x_test_pca.shape)"
   ]
  },
  {
   "cell_type": "code",
   "execution_count": 52,
   "metadata": {},
   "outputs": [
    {
     "name": "stdout",
     "output_type": "stream",
     "text": [
      "[[ 1.92000948e+01 -1.44682869e+00 -5.30843427e-01 -3.72965547e-16]\n",
      " [-5.48773135e+00 -1.27264051e+00  6.91367780e+00  3.73746173e-14]\n",
      " [-4.58499256e+00  1.00425238e+01 -2.22919484e+00 -1.96665600e-14]\n",
      " [-9.12737094e+00 -7.32305458e+00 -4.15363954e+00 -1.33938000e-14]]\n"
     ]
    }
   ],
   "source": [
    "print(x_test_pca)"
   ]
  },
  {
   "cell_type": "code",
   "execution_count": 43,
   "metadata": {},
   "outputs": [
    {
     "name": "stdout",
     "output_type": "stream",
     "text": [
      "[[1.]\n",
      " [1.]\n",
      " [1.]\n",
      " [0.]]\n"
     ]
    }
   ],
   "source": [
    "prob =np.round(model.predict_proba(x_test_pca))\n",
    "print(np.delete(prob,1,1))"
   ]
  },
  {
   "cell_type": "code",
   "execution_count": null,
   "metadata": {},
   "outputs": [],
   "source": []
  }
 ],
 "metadata": {
  "kernelspec": {
   "display_name": "Python 3",
   "language": "python",
   "name": "python3"
  },
  "language_info": {
   "codemirror_mode": {
    "name": "ipython",
    "version": 3
   },
   "file_extension": ".py",
   "mimetype": "text/x-python",
   "name": "python",
   "nbconvert_exporter": "python",
   "pygments_lexer": "ipython3",
   "version": "3.7.1"
  }
 },
 "nbformat": 4,
 "nbformat_minor": 2
}
