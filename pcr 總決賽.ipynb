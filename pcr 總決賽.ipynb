{
 "cells": [
  {
   "cell_type": "code",
   "execution_count": 71,
   "metadata": {},
   "outputs": [],
   "source": [
    "import numpy as np\n",
    "import pandas as pd"
   ]
  },
  {
   "cell_type": "code",
   "execution_count": 81,
   "metadata": {},
   "outputs": [
    {
     "name": "stdout",
     "output_type": "stream",
     "text": [
      "       FG%     3P%    FT%   ORB    DRB    TRB    AST    STL   BLK    TOV  \\\n",
      "0   50.600  39.400  84.40   7.0  29.00  36.00  25.00   6.00   6.0  10.00   \n",
      "1   37.200  28.900  88.50  15.0  34.00  49.00  17.00   8.00   2.0  15.00   \n",
      "2   52.400  44.700  95.20   5.0  35.00  40.00  30.00   9.00  10.0  14.00   \n",
      "3   41.900  31.300  95.80   7.0  32.00  39.00  22.00  12.00   4.0   9.00   \n",
      "4   44.700  25.000  77.80  13.0  30.00  43.00  19.00   6.00   5.0  13.00   \n",
      "5   45.360  33.860  88.34   9.4  32.00  41.40  22.60   8.20   5.4  12.20   \n",
      "6   45.770  32.810  88.75  10.2  32.50  42.70  21.80   8.40   5.0  12.70   \n",
      "7   46.880  35.440  89.01   8.4  32.10  40.50  23.90   8.30   6.2  12.10   \n",
      "8   44.715  31.990  88.44   9.3  31.75  41.05  22.10   8.75   5.2  11.65   \n",
      "9   45.215  33.165  88.56   8.8  31.35  40.15  22.45   8.60   5.1  11.15   \n",
      "10  45.830  34.100  89.07   8.6  31.80  40.40  23.10   8.60   5.6  11.60   \n",
      "11  44.995  31.360  86.64   9.9  31.55  41.45  21.80   8.15   5.3  12.05   \n",
      "\n",
      "       PF     PTS  HOME  RESULT       DATE  \n",
      "0   26.00  118.00     1     1.0  2019/5/31  \n",
      "1   22.00  104.00     1     0.0   2019/6/3  \n",
      "2   22.00  123.00     0     1.0   2019/6/6  \n",
      "3   21.00  105.00     0     1.0   2019/6/9  \n",
      "4   19.00  105.00     1     0.0  2019/6/11  \n",
      "5   22.00  111.00     0     NaN        NaN  \n",
      "6   21.60  109.60     0     NaN        NaN  \n",
      "7   22.00  112.90     0     NaN        NaN  \n",
      "8   21.15  108.90     0     NaN        NaN  \n",
      "9   22.05  109.95     0     NaN        NaN  \n",
      "10  21.90  111.10     0     NaN        NaN  \n",
      "11  20.95  108.90     0     NaN        NaN  \n"
     ]
    }
   ],
   "source": [
    "df = pd.read_csv('final_test.csv')\n",
    "print(df)"
   ]
  },
  {
   "cell_type": "code",
   "execution_count": 82,
   "metadata": {},
   "outputs": [
    {
     "name": "stdout",
     "output_type": "stream",
     "text": [
      "    FG%   3P%   FT%   ORB   DRB   TRB   AST   STL   BLK   TOV    PF    PTS  \\\n",
      "0  50.6  39.4  84.4   7.0  29.0  36.0  25.0   6.0   6.0  10.0  26.0  118.0   \n",
      "1  37.2  28.9  88.5  15.0  34.0  49.0  17.0   8.0   2.0  15.0  22.0  104.0   \n",
      "2  52.4  44.7  95.2   5.0  35.0  40.0  30.0   9.0  10.0  14.0  22.0  123.0   \n",
      "3  41.9  31.3  95.8   7.0  32.0  39.0  22.0  12.0   4.0   9.0  21.0  105.0   \n",
      "4  44.7  25.0  77.8  13.0  30.0  43.0  19.0   6.0   5.0  13.0  19.0  105.0   \n",
      "\n",
      "   HOME  \n",
      "0     1  \n",
      "1     1  \n",
      "2     0  \n",
      "3     0  \n",
      "4     1  \n",
      "0    1.0\n",
      "1    0.0\n",
      "2    1.0\n",
      "3    1.0\n",
      "4    0.0\n",
      "Name: RESULT, dtype: float64\n"
     ]
    }
   ],
   "source": [
    "df_train = df.drop(df.index[-7:])\n",
    "x_train = df_train.drop(['DATE','RESULT'],axis = 1)\n",
    "y_train = df_train['RESULT']\n",
    "print(x_train)\n",
    "print(y_train)"
   ]
  },
  {
   "cell_type": "code",
   "execution_count": 83,
   "metadata": {},
   "outputs": [],
   "source": [
    "from sklearn.decomposition import PCA \n",
    "pca=PCA(n_components=4)"
   ]
  },
  {
   "cell_type": "code",
   "execution_count": 84,
   "metadata": {},
   "outputs": [
    {
     "name": "stdout",
     "output_type": "stream",
     "text": [
      "original shape:    (5, 13)\n",
      "transformed shape: (5, 4)\n"
     ]
    }
   ],
   "source": [
    "pca.fit(x_train)\n",
    "x_train_pca = pca.transform(x_train)\n",
    "print(\"original shape:   \", x_train.shape)\n",
    "print(\"transformed shape:\", x_train_pca.shape)"
   ]
  },
  {
   "cell_type": "code",
   "execution_count": 85,
   "metadata": {},
   "outputs": [
    {
     "name": "stdout",
     "output_type": "stream",
     "text": [
      "[[0.32382649 0.17447657 0.3694957  0.08181861]]\n",
      "[0.06856591]\n"
     ]
    },
    {
     "name": "stderr",
     "output_type": "stream",
     "text": [
      "C:\\Users\\HP\\Anaconda3\\lib\\site-packages\\sklearn\\linear_model\\logistic.py:433: FutureWarning: Default solver will be changed to 'lbfgs' in 0.22. Specify a solver to silence this warning.\n",
      "  FutureWarning)\n"
     ]
    }
   ],
   "source": [
    "from sklearn.linear_model import LogisticRegression\n",
    "from sklearn.metrics import accuracy_score \n",
    "model = LogisticRegression()\n",
    "model.fit(x_train_pca, y_train)\n",
    "print(model.coef_)\n",
    "print(model.intercept_)"
   ]
  },
  {
   "cell_type": "code",
   "execution_count": 86,
   "metadata": {},
   "outputs": [
    {
     "name": "stdout",
     "output_type": "stream",
     "text": [
      "       FG%     3P%    FT%   ORB    DRB    TRB    AST   STL  BLK    TOV     PF  \\\n",
      "5   45.360  33.860  88.34   9.4  32.00  41.40  22.60  8.20  5.4  12.20  22.00   \n",
      "6   45.770  32.810  88.75  10.2  32.50  42.70  21.80  8.40  5.0  12.70  21.60   \n",
      "7   46.880  35.440  89.01   8.4  32.10  40.50  23.90  8.30  6.2  12.10  22.00   \n",
      "8   44.715  31.990  88.44   9.3  31.75  41.05  22.10  8.75  5.2  11.65  21.15   \n",
      "9   45.215  33.165  88.56   8.8  31.35  40.15  22.45  8.60  5.1  11.15  22.05   \n",
      "10  45.830  34.100  89.07   8.6  31.80  40.40  23.10  8.60  5.6  11.60  21.90   \n",
      "11  44.995  31.360  86.64   9.9  31.55  41.45  21.80  8.15  5.3  12.05  20.95   \n",
      "\n",
      "       PTS  HOME  \n",
      "5   111.00     0  \n",
      "6   109.60     0  \n",
      "7   112.90     0  \n",
      "8   108.90     0  \n",
      "9   109.95     0  \n",
      "10  111.10     0  \n",
      "11  108.90     0  \n",
      "original shape:    (7, 13)\n",
      "transformed shape: (7, 4)\n"
     ]
    }
   ],
   "source": [
    "df_test = df.drop(df.index[0:5])\n",
    "x_test = df_test.drop(['DATE','RESULT'],axis = 1)\n",
    "print(x_test)\n",
    "\n",
    "pca_test=PCA(n_components=4)\n",
    "pca_test.fit(x_test)\n",
    "x_test_pca = pca_test.transform(x_test)\n",
    "\n",
    "print(\"original shape:   \", x_test.shape)\n",
    "print(\"transformed shape:\", x_test_pca.shape)"
   ]
  },
  {
   "cell_type": "code",
   "execution_count": 87,
   "metadata": {},
   "outputs": [
    {
     "name": "stdout",
     "output_type": "stream",
     "text": [
      "[[ 0.65132276  0.57977013  0.15830297  0.59481044]\n",
      " [-1.32124494  1.97484532 -0.68237502 -0.05734259]\n",
      " [ 4.09842268  0.32745673  0.56895144 -0.29086434]\n",
      " [-1.99406606 -0.7064065  -0.526282   -0.41685355]\n",
      " [-0.06670464 -1.43792746 -0.4607482   0.36425571]\n",
      " [ 1.66494336 -0.60717509 -0.33196281 -0.14185575]\n",
      " [-3.03267317 -0.13056313  1.27411362 -0.05214991]]\n"
     ]
    }
   ],
   "source": [
    "print(x_test_pca)"
   ]
  },
  {
   "cell_type": "code",
   "execution_count": 88,
   "metadata": {},
   "outputs": [
    {
     "name": "stdout",
     "output_type": "stream",
     "text": [
      "[[0.38 ]\n",
      " [0.567]\n",
      " [0.163]\n",
      " [0.717]\n",
      " [0.585]\n",
      " [0.409]\n",
      " [0.615]]\n"
     ]
    }
   ],
   "source": [
    "prob =np.round(model.predict_proba(x_test_pca),3)\n",
    "print(np.delete(prob,1,1))"
   ]
  },
  {
   "cell_type": "code",
   "execution_count": 89,
   "metadata": {},
   "outputs": [
    {
     "name": "stdout",
     "output_type": "stream",
     "text": [
      "[[0.]\n",
      " [1.]\n",
      " [0.]\n",
      " [1.]\n",
      " [1.]\n",
      " [0.]\n",
      " [1.]]\n"
     ]
    }
   ],
   "source": [
    "prob =np.round(model.predict_proba(x_test_pca))\n",
    "print(np.delete(prob,1,1))"
   ]
  },
  {
   "cell_type": "code",
   "execution_count": null,
   "metadata": {},
   "outputs": [],
   "source": []
  }
 ],
 "metadata": {
  "kernelspec": {
   "display_name": "Python 3",
   "language": "python",
   "name": "python3"
  },
  "language_info": {
   "codemirror_mode": {
    "name": "ipython",
    "version": 3
   },
   "file_extension": ".py",
   "mimetype": "text/x-python",
   "name": "python",
   "nbconvert_exporter": "python",
   "pygments_lexer": "ipython3",
   "version": "3.7.1"
  }
 },
 "nbformat": 4,
 "nbformat_minor": 2
}
