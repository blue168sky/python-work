{
 "cells": [
  {
   "cell_type": "code",
   "execution_count": 1,
   "metadata": {},
   "outputs": [],
   "source": [
    "import numpy as np\n",
    "import pandas as pd"
   ]
  },
  {
   "cell_type": "code",
   "execution_count": 2,
   "metadata": {},
   "outputs": [
    {
     "name": "stdout",
     "output_type": "stream",
     "text": [
      "   Team   FG%   3P%   FT%  ORB  DRB  TRB  AST  STL  BLK  TOV  PF  PTS  HOME  \\\n",
      "0   TOR  48.9  42.2  78.9    8   49   57   28    5    4   17  21  124     1   \n",
      "1   TOR  41.4  38.5  85.0    9   36   45   22    6    7   13  13  104     0   \n",
      "2   TOR  49.4  37.8  81.5    4   34   38   29    9    2   16  20  116     1   \n",
      "3   TOR  49.4  36.8  76.5    7   43   50   21   13    6   20  16  105     0   \n",
      "4   GSW  51.5  25.7  77.8   13   33   46   33   11    7   12  23  134     0   \n",
      "5   GSW  39.1  17.9  69.6   15   39   54   18   10    3   19  21   95     1   \n",
      "6   POR  43.5  38.1  87.5   12   30   42   26    2    1   12  16  103     0   \n",
      "7   POR  52.8  33.3  82.4   13   46   59   34    8    2   14  23  143     1   \n",
      "8   UTA  46.9  36.0  81.3   10   36   46   27   10    6   11  19  114     1   \n",
      "9   UTA  38.5  38.5  73.3   17   36   53   20    6   10   15  22  111     0   \n",
      "10  PHI  41.0  30.2  93.3    9   42   51   24    7   10   11  27  123     1   \n",
      "11  PHI  45.3  32.0  82.1   10   35   45   25    9    6   10  22  125     1   \n",
      "12  PHI  45.2  35.3  74.4    8   42   50   26    5    6   10  18  128     0   \n",
      "13  LAC  44.8  34.8  69.6   15   37   52   31   11    8   17  26  126     0   \n",
      "14  LAC  52.3  43.2  81.5    3   44   47   25    5    5    8  21  128     1   \n",
      "\n",
      "    RESULT        DATE  \n",
      "0        1  2018/10/30  \n",
      "1        1  2018/12/10  \n",
      "2        0    2019/1/6  \n",
      "3        1    2019/2/1  \n",
      "4        1   2018/11/9  \n",
      "5        0   2018/12/8  \n",
      "6        0   2018/11/7  \n",
      "7        1  2018/11/22  \n",
      "8        1    2019/1/8  \n",
      "9        0    2019/3/3  \n",
      "10       1  2018/10/25  \n",
      "11       0   2019/3/18  \n",
      "12       1    2019/4/5  \n",
      "13       0  2018/11/11  \n",
      "14       1   2019/3/29  \n"
     ]
    }
   ],
   "source": [
    "df = pd.read_csv('MILvsTOR_Train.csv')\n",
    "print(df)"
   ]
  },
  {
   "cell_type": "code",
   "execution_count": 3,
   "metadata": {},
   "outputs": [],
   "source": [
    "x_train = df.drop(['Team','DATE','RESULT'],axis = 1)\n",
    "y_train = df['RESULT']"
   ]
  },
  {
   "cell_type": "code",
   "execution_count": 4,
   "metadata": {},
   "outputs": [],
   "source": [
    "from sklearn.decomposition import PCA \n",
    "pca=PCA(n_components=4)"
   ]
  },
  {
   "cell_type": "code",
   "execution_count": 5,
   "metadata": {},
   "outputs": [
    {
     "name": "stdout",
     "output_type": "stream",
     "text": [
      "original shape:    (15, 13)\n",
      "transformed shape: (15, 4)\n"
     ]
    }
   ],
   "source": [
    "pca.fit(x_train)\n",
    "x_train_pca = pca.transform(x_train)\n",
    "print(\"original shape:   \", x_train.shape)\n",
    "print(\"transformed shape:\", x_train_pca.shape)"
   ]
  },
  {
   "cell_type": "code",
   "execution_count": 6,
   "metadata": {},
   "outputs": [
    {
     "name": "stdout",
     "output_type": "stream",
     "text": [
      "[[ 0.13651218 -0.10944393  0.21635035  0.10041766]]\n",
      "[0.61896259]\n"
     ]
    },
    {
     "name": "stderr",
     "output_type": "stream",
     "text": [
      "C:\\Users\\HP\\Anaconda3\\lib\\site-packages\\sklearn\\linear_model\\logistic.py:433: FutureWarning: Default solver will be changed to 'lbfgs' in 0.22. Specify a solver to silence this warning.\n",
      "  FutureWarning)\n"
     ]
    }
   ],
   "source": [
    "from sklearn.linear_model import LogisticRegression\n",
    "from sklearn.metrics import accuracy_score \n",
    "model = LogisticRegression()\n",
    "model.fit(x_train_pca, y_train)\n",
    "print(model.coef_)\n",
    "print(model.intercept_)"
   ]
  },
  {
   "cell_type": "code",
   "execution_count": 8,
   "metadata": {},
   "outputs": [
    {
     "name": "stdout",
     "output_type": "stream",
     "text": [
      "    FG%   3P%   FT%  ORB  DRB  TRB  AST  STL  BLK  TOV  PF  PTS  HOME  RESULT  \\\n",
      "0  39.8  25.0  85.2   15   45   60   21    8   11   13  16  108     1       1   \n",
      "1  46.7  31.7  74.3   11   42   53   27    6    4    7  26  125     1       1   \n",
      "2  37.3  31.8  66.7   13   50   63   22   14    5   20  30  112     0       0   \n",
      "3  46.3  31.4  65.4    7   33   40   30    8    7   12  22  102     0       0   \n",
      "4  45.2  32.3  72.2    8   45   53   26    2    2   11  22   99     1       0   \n",
      "5  40.0  35.3  71.0   12   30   42   19    7    7   11  22   94     0       0   \n",
      "\n",
      "        DATE  \n",
      "0  2019/5/16  \n",
      "1  2019/5/18  \n",
      "2  2019/5/20  \n",
      "3  2019/5/22  \n",
      "4  2019/5/24  \n",
      "5  2019/5/26  \n"
     ]
    }
   ],
   "source": [
    "df1 = pd.read_csv('MILvsTOR_Test.csv')\n",
    "print(df1)"
   ]
  },
  {
   "cell_type": "code",
   "execution_count": 9,
   "metadata": {},
   "outputs": [
    {
     "name": "stdout",
     "output_type": "stream",
     "text": [
      "original shape:    (6, 13)\n",
      "transformed shape: (6, 4)\n"
     ]
    }
   ],
   "source": [
    "x_test = df1.drop(['DATE','RESULT'],axis = 1)\n",
    "y_test = df1['RESULT']\n",
    "pca_test=PCA(n_components=4)\n",
    "pca_test.fit(x_test)\n",
    "x_test_pca = pca_test.transform(x_test)\n",
    "\n",
    "print(\"original shape:   \", x_test.shape)\n",
    "print(\"transformed shape:\", x_test_pca.shape)"
   ]
  },
  {
   "cell_type": "code",
   "execution_count": 10,
   "metadata": {},
   "outputs": [
    {
     "name": "stdout",
     "output_type": "stream",
     "text": [
      "[[-10.89987016 -13.22265875  -9.60115592  -1.69759777]\n",
      " [-11.54565843  14.46363078  -7.7238221   -1.38431483]\n",
      " [-15.4217524   -0.79084098  14.64352571  -2.2687896 ]\n",
      " [ 15.67756768   7.50297335   0.60317219  -0.27136339]\n",
      " [  3.40081021  -2.76008594   1.07251845  11.10295226]\n",
      " [ 18.7889031   -5.19301846   1.00576167  -5.48088666]]\n"
     ]
    }
   ],
   "source": [
    "print(x_test_pca)"
   ]
  },
  {
   "cell_type": "code",
   "execution_count": 12,
   "metadata": {},
   "outputs": [
    {
     "name": "stdout",
     "output_type": "stream",
     "text": [
      "[[0.842]\n",
      " [0.987]\n",
      " [0.176]\n",
      " [0.115]\n",
      " [0.061]\n",
      " [0.032]]\n"
     ]
    }
   ],
   "source": [
    "prob =np.round(model.predict_proba(x_test_pca),3)\n",
    "print(np.delete(prob,1,1))"
   ]
  },
  {
   "cell_type": "code",
   "execution_count": 13,
   "metadata": {},
   "outputs": [
    {
     "name": "stdout",
     "output_type": "stream",
     "text": [
      "[[1.]\n",
      " [1.]\n",
      " [0.]\n",
      " [0.]\n",
      " [0.]\n",
      " [0.]]\n"
     ]
    }
   ],
   "source": [
    "prob =np.round(model.predict_proba(x_test_pca))\n",
    "print(np.delete(prob,1,1))"
   ]
  },
  {
   "cell_type": "code",
   "execution_count": null,
   "metadata": {},
   "outputs": [],
   "source": []
  }
 ],
 "metadata": {
  "kernelspec": {
   "display_name": "Python 3",
   "language": "python",
   "name": "python3"
  },
  "language_info": {
   "codemirror_mode": {
    "name": "ipython",
    "version": 3
   },
   "file_extension": ".py",
   "mimetype": "text/x-python",
   "name": "python",
   "nbconvert_exporter": "python",
   "pygments_lexer": "ipython3",
   "version": "3.7.1"
  }
 },
 "nbformat": 4,
 "nbformat_minor": 2
}
