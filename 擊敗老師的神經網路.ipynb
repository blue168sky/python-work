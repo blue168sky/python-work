{
 "cells": [
  {
   "cell_type": "code",
   "execution_count": 87,
   "metadata": {},
   "outputs": [
    {
     "name": "stdout",
     "output_type": "stream",
     "text": [
      "(60000, 784)\n",
      "(60000, 10)\n",
      "(10000, 784)\n",
      "(10000, 10)\n"
     ]
    }
   ],
   "source": [
    "%matplotlib inline\n",
    "\n",
    "import numpy as np\n",
    "from keras.datasets import mnist\n",
    "from keras.utils import np_utils\n",
    "(x_train,y_train),(x_test,y_test) = mnist.load_data()\n",
    "x_train = x_train.reshape(60000,784)\n",
    "x_test = x_test.reshape(10000,784)\n",
    "y_train = np_utils.to_categorical(y_train,10)\n",
    "y_test = np_utils.to_categorical(y_test,10)\n",
    "print(x_train.shape)\n",
    "print(y_train.shape)\n",
    "print(x_test.shape)\n",
    "print(y_test.shape)"
   ]
  },
  {
   "cell_type": "code",
   "execution_count": 88,
   "metadata": {},
   "outputs": [],
   "source": [
    "from keras.models import Sequential\n",
    "from keras.layers import Dense, Activation\n",
    "from keras.optimizers import SGD\n",
    "from keras import losses"
   ]
  },
  {
   "cell_type": "code",
   "execution_count": 89,
   "metadata": {},
   "outputs": [],
   "source": [
    "model = Sequential()\n",
    "model.add(Dense(30,input_dim=784))\n",
    "model.add(Activation('relu'))"
   ]
  },
  {
   "cell_type": "code",
   "execution_count": 90,
   "metadata": {},
   "outputs": [],
   "source": [
    "model.add(Dense(30))\n",
    "model.add(Activation('relu'))"
   ]
  },
  {
   "cell_type": "code",
   "execution_count": 91,
   "metadata": {},
   "outputs": [],
   "source": [
    "model.add(Dense(10))\n",
    "model.add(Activation('softmax'))"
   ]
  },
  {
   "cell_type": "code",
   "execution_count": 93,
   "metadata": {},
   "outputs": [],
   "source": [
    "model.compile(loss = 'binary_crossentropy', optimizer=SGD(lr=0.01),metrics=['accuracy'])"
   ]
  },
  {
   "cell_type": "code",
   "execution_count": 94,
   "metadata": {},
   "outputs": [
    {
     "name": "stdout",
     "output_type": "stream",
     "text": [
      "_________________________________________________________________\n",
      "Layer (type)                 Output Shape              Param #   \n",
      "=================================================================\n",
      "dense_36 (Dense)             (None, 30)                23550     \n",
      "_________________________________________________________________\n",
      "activation_36 (Activation)   (None, 30)                0         \n",
      "_________________________________________________________________\n",
      "dense_37 (Dense)             (None, 30)                930       \n",
      "_________________________________________________________________\n",
      "activation_37 (Activation)   (None, 30)                0         \n",
      "_________________________________________________________________\n",
      "dense_38 (Dense)             (None, 10)                310       \n",
      "_________________________________________________________________\n",
      "activation_38 (Activation)   (None, 10)                0         \n",
      "=================================================================\n",
      "Total params: 24,790\n",
      "Trainable params: 24,790\n",
      "Non-trainable params: 0\n",
      "_________________________________________________________________\n"
     ]
    }
   ],
   "source": [
    "model.summary()"
   ]
  },
  {
   "cell_type": "code",
   "execution_count": 95,
   "metadata": {},
   "outputs": [
    {
     "name": "stdout",
     "output_type": "stream",
     "text": [
      "Epoch 1/20\n",
      "60000/60000 [==============================] - 2s 33us/step - loss: 0.5072 - acc: 0.9146\n",
      "Epoch 2/20\n",
      "60000/60000 [==============================] - 1s 24us/step - loss: 0.2027 - acc: 0.9382\n",
      "Epoch 3/20\n",
      "60000/60000 [==============================] - 1s 24us/step - loss: 0.1678 - acc: 0.9495\n",
      "Epoch 4/20\n",
      "60000/60000 [==============================] - 1s 24us/step - loss: 0.1519 - acc: 0.9538\n",
      "Epoch 5/20\n",
      "60000/60000 [==============================] - 1s 25us/step - loss: 0.1437 - acc: 0.9557\n",
      "Epoch 6/20\n",
      "60000/60000 [==============================] - 2s 28us/step - loss: 0.1383 - acc: 0.9569\n",
      "Epoch 7/20\n",
      "60000/60000 [==============================] - 1s 24us/step - loss: 0.1339 - acc: 0.9576\n",
      "Epoch 8/20\n",
      "60000/60000 [==============================] - 1s 24us/step - loss: 0.1306 - acc: 0.9580\n",
      "Epoch 9/20\n",
      "60000/60000 [==============================] - 1s 24us/step - loss: 0.1275 - acc: 0.9583\n",
      "Epoch 10/20\n",
      "60000/60000 [==============================] - 1s 24us/step - loss: 0.1247 - acc: 0.9583\n",
      "Epoch 11/20\n",
      "60000/60000 [==============================] - 1s 24us/step - loss: 0.1221 - acc: 0.9583\n",
      "Epoch 12/20\n",
      "60000/60000 [==============================] - 2s 26us/step - loss: 0.1196 - acc: 0.9585\n",
      "Epoch 13/20\n",
      "60000/60000 [==============================] - 2s 30us/step - loss: 0.1176 - acc: 0.9588\n",
      "Epoch 14/20\n",
      "60000/60000 [==============================] - 2s 27us/step - loss: 0.1153 - acc: 0.9590\n",
      "Epoch 15/20\n",
      "60000/60000 [==============================] - 2s 28us/step - loss: 0.1136 - acc: 0.9591\n",
      "Epoch 16/20\n",
      "60000/60000 [==============================] - 2s 29us/step - loss: 0.1118 - acc: 0.9594: \n",
      "Epoch 17/20\n",
      "60000/60000 [==============================] - 2s 27us/step - loss: 0.1101 - acc: 0.9596\n",
      "Epoch 18/20\n",
      "60000/60000 [==============================] - 2s 28us/step - loss: 0.1082 - acc: 0.9600\n",
      "Epoch 19/20\n",
      "60000/60000 [==============================] - 2s 27us/step - loss: 0.1063 - acc: 0.9607\n",
      "Epoch 20/20\n",
      "60000/60000 [==============================] - 2s 26us/step - loss: 0.1049 - acc: 0.9614\n"
     ]
    },
    {
     "data": {
      "text/plain": [
       "<keras.callbacks.History at 0x1da0c7f7ac8>"
      ]
     },
     "execution_count": 95,
     "metadata": {},
     "output_type": "execute_result"
    }
   ],
   "source": [
    "model.fit(x_train, y_train, batch_size=100, epochs=20)"
   ]
  },
  {
   "cell_type": "code",
   "execution_count": 96,
   "metadata": {},
   "outputs": [],
   "source": [
    "from ipywidgets import interact_manual"
   ]
  },
  {
   "cell_type": "code",
   "execution_count": 97,
   "metadata": {},
   "outputs": [],
   "source": [
    "predict = model.predict_classes(x_test)"
   ]
  },
  {
   "cell_type": "code",
   "execution_count": 98,
   "metadata": {},
   "outputs": [
    {
     "data": {
      "text/plain": [
       "array([7, 2, 1, ..., 4, 0, 6], dtype=int64)"
      ]
     },
     "execution_count": 98,
     "metadata": {},
     "output_type": "execute_result"
    }
   ],
   "source": [
    "predict"
   ]
  },
  {
   "cell_type": "code",
   "execution_count": 99,
   "metadata": {},
   "outputs": [
    {
     "name": "stdout",
     "output_type": "stream",
     "text": [
      "10000/10000 [==============================] - 0s 43us/step\n"
     ]
    }
   ],
   "source": [
    "score = model.evaluate(x_test,y_test)"
   ]
  },
  {
   "cell_type": "code",
   "execution_count": 100,
   "metadata": {},
   "outputs": [
    {
     "name": "stdout",
     "output_type": "stream",
     "text": [
      "loss: 0.10939920345544815\n",
      "正確率 0.9605300226211548\n"
     ]
    }
   ],
   "source": [
    "print('loss:',score[0])\n",
    "print('正確率',score[1])"
   ]
  },
  {
   "cell_type": "code",
   "execution_count": null,
   "metadata": {},
   "outputs": [],
   "source": []
  }
 ],
 "metadata": {
  "kernelspec": {
   "display_name": "Python 3",
   "language": "python",
   "name": "python3"
  },
  "language_info": {
   "codemirror_mode": {
    "name": "ipython",
    "version": 3
   },
   "file_extension": ".py",
   "mimetype": "text/x-python",
   "name": "python",
   "nbconvert_exporter": "python",
   "pygments_lexer": "ipython3",
   "version": "3.6.8"
  }
 },
 "nbformat": 4,
 "nbformat_minor": 2
}
